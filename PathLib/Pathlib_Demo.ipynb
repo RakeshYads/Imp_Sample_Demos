{
 "cells": [
  {
   "cell_type": "code",
   "execution_count": 10,
   "id": "3773cd60",
   "metadata": {},
   "outputs": [
    {
     "name": "stdout",
     "output_type": "stream",
     "text": [
      "G:\\GitHub\\Data_Science_Course\\DEPLOYMENT\\Codes\\deploying-machine-learning-models-master\\section-05-production-model-package\\regression_model\n",
      "G:\\GitHub\\Data_Science_Course\\DEPLOYMENT\\Codes\\deploying-machine-learning-models-master\\section-05-production-model-package\n"
     ]
    }
   ],
   "source": [
    "\n",
    "from pathlib import Path\n",
    "PACKAGE_ROOT = Path().resolve().parent\n",
    "print(PACKAGE_ROOT)\n",
    "ROOT = PACKAGE_ROOT.parent\n",
    "print(ROOT)"
   ]
  }
 ],
 "metadata": {
  "kernelspec": {
   "display_name": "Python 3 (ipykernel)",
   "language": "python",
   "name": "python3"
  },
  "language_info": {
   "codemirror_mode": {
    "name": "ipython",
    "version": 3
   },
   "file_extension": ".py",
   "mimetype": "text/x-python",
   "name": "python",
   "nbconvert_exporter": "python",
   "pygments_lexer": "ipython3",
   "version": "3.11.5"
  }
 },
 "nbformat": 4,
 "nbformat_minor": 5
}
